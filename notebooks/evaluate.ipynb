{
 "cells": [
  {
   "cell_type": "code",
   "execution_count": 1,
   "id": "b792e00f",
   "metadata": {},
   "outputs": [],
   "source": [
    "from gensim.models import Word2Vec\n",
    "from mak import mapk\n",
    "import sqlite3"
   ]
  },
  {
   "cell_type": "code",
   "execution_count": 9,
   "id": "5a9a3220",
   "metadata": {},
   "outputs": [],
   "source": [
    "model = Word2Vec.load('word2vec_sg.model')"
   ]
  },
  {
   "cell_type": "code",
   "execution_count": 3,
   "id": "4665c276",
   "metadata": {},
   "outputs": [],
   "source": [
    "conn = sqlite3.connect('data.db')"
   ]
  },
  {
   "cell_type": "code",
   "execution_count": 4,
   "id": "acb51da5",
   "metadata": {},
   "outputs": [],
   "source": [
    "c = conn.cursor()"
   ]
  },
  {
   "cell_type": "code",
   "execution_count": 5,
   "id": "c73d0c2d",
   "metadata": {},
   "outputs": [],
   "source": [
    "c.execute(\"SELECT * FROM validation\")\n",
    "val_data = c.fetchall()"
   ]
  },
  {
   "cell_type": "code",
   "execution_count": 10,
   "id": "8233a872",
   "metadata": {},
   "outputs": [],
   "source": [
    "predicts = []\n",
    "\n",
    "for v in val_data:\n",
    "    temp2 = []\n",
    "    try:\n",
    "        temp_sims = model.wv.most_similar(v)\n",
    "#         sor = sorted(temp_sims, key = lambda x: x[1], reverse=True)\n",
    "        for s in temp_sims:\n",
    "            temp2.append(s[0])\n",
    "        predicts.append(temp2)\n",
    "    except:\n",
    "        continue"
   ]
  },
  {
   "cell_type": "code",
   "execution_count": 11,
   "id": "fa741b8d",
   "metadata": {},
   "outputs": [],
   "source": [
    "meanAverageR = mapk(val_data, predicts)"
   ]
  },
  {
   "cell_type": "code",
   "execution_count": 12,
   "id": "2e04dca0",
   "metadata": {},
   "outputs": [
    {
     "data": {
      "text/plain": [
       "0.004458964544595097"
      ]
     },
     "execution_count": 12,
     "metadata": {},
     "output_type": "execute_result"
    }
   ],
   "source": [
    "meanAverageR"
   ]
  },
  {
   "cell_type": "code",
   "execution_count": null,
   "id": "fdcce2ac",
   "metadata": {},
   "outputs": [],
   "source": [
    "vectors = []\n",
    "for d in val_data:\n",
    "    tempv = model.wv.get_vector(d[0])\n",
    "    vectors.append(tempv)"
   ]
  },
  {
   "cell_type": "code",
   "execution_count": 29,
   "id": "edfcd654",
   "metadata": {},
   "outputs": [
    {
     "data": {
      "text/plain": [
       "'HBV00000NVZGU'"
      ]
     },
     "execution_count": 29,
     "metadata": {},
     "output_type": "execute_result"
    }
   ],
   "source": [
    "vectors[0]"
   ]
  },
  {
   "cell_type": "code",
   "execution_count": null,
   "id": "944af660",
   "metadata": {},
   "outputs": [],
   "source": []
  }
 ],
 "metadata": {
  "kernelspec": {
   "display_name": "Python 3 (ipykernel)",
   "language": "python",
   "name": "python3"
  },
  "language_info": {
   "codemirror_mode": {
    "name": "ipython",
    "version": 3
   },
   "file_extension": ".py",
   "mimetype": "text/x-python",
   "name": "python",
   "nbconvert_exporter": "python",
   "pygments_lexer": "ipython3",
   "version": "3.8.1"
  }
 },
 "nbformat": 4,
 "nbformat_minor": 5
}
