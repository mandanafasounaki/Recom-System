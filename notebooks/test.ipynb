{
 "cells": [
  {
   "cell_type": "code",
   "execution_count": 1,
   "id": "7bca775d",
   "metadata": {},
   "outputs": [],
   "source": [
    "import sqlite3\n",
    "import random\n",
    "from gensim.models import Word2Vec\n",
    "from load_data import load_random\n",
    "import pandas as pd"
   ]
  },
  {
   "cell_type": "code",
   "execution_count": 2,
   "id": "359637c4",
   "metadata": {},
   "outputs": [],
   "source": [
    "conn = sqlite3.connect('data.db')\n",
    "c = conn.cursor()"
   ]
  },
  {
   "cell_type": "code",
   "execution_count": 3,
   "id": "e46a8555",
   "metadata": {},
   "outputs": [
    {
     "data": {
      "text/plain": [
       "<sqlite3.Cursor at 0x7fb2a5180ea0>"
      ]
     },
     "execution_count": 3,
     "metadata": {},
     "output_type": "execute_result"
    }
   ],
   "source": [
    "c.execute(\"SELECT * FROM Meta\")"
   ]
  },
  {
   "cell_type": "code",
   "execution_count": 4,
   "id": "66546c7e",
   "metadata": {},
   "outputs": [],
   "source": [
    "d = c.fetchall()"
   ]
  },
  {
   "cell_type": "code",
   "execution_count": 14,
   "id": "69124fd6",
   "metadata": {},
   "outputs": [],
   "source": [
    "meta_df = pd.DataFrame(d)"
   ]
  },
  {
   "cell_type": "code",
   "execution_count": 3,
   "id": "823b2567",
   "metadata": {},
   "outputs": [],
   "source": [
    "l = load_random()"
   ]
  },
  {
   "cell_type": "code",
   "execution_count": 4,
   "id": "58b9b069",
   "metadata": {},
   "outputs": [
    {
     "data": {
      "text/html": [
       "<div>\n",
       "<style scoped>\n",
       "    .dataframe tbody tr th:only-of-type {\n",
       "        vertical-align: middle;\n",
       "    }\n",
       "\n",
       "    .dataframe tbody tr th {\n",
       "        vertical-align: top;\n",
       "    }\n",
       "\n",
       "    .dataframe thead th {\n",
       "        text-align: right;\n",
       "    }\n",
       "</style>\n",
       "<table border=\"1\" class=\"dataframe\">\n",
       "  <thead>\n",
       "    <tr style=\"text-align: right;\">\n",
       "      <th></th>\n",
       "      <th>productid</th>\n",
       "      <th>brand</th>\n",
       "      <th>category</th>\n",
       "      <th>subcategory</th>\n",
       "      <th>name</th>\n",
       "    </tr>\n",
       "  </thead>\n",
       "  <tbody>\n",
       "    <tr>\n",
       "      <th>0</th>\n",
       "      <td>ZYECZACI8673035</td>\n",
       "      <td>Silen</td>\n",
       "      <td>Ev Bakım ve Temizlik</td>\n",
       "      <td>Kağıt Ürünler</td>\n",
       "      <td>Silen Ultra Kağıt Havlu 12'li</td>\n",
       "    </tr>\n",
       "    <tr>\n",
       "      <th>1</th>\n",
       "      <td>ZYSULKORO331</td>\n",
       "      <td>Koroplast</td>\n",
       "      <td>Ev Yaşam ve Bahçe</td>\n",
       "      <td>Mutfak Ürünleri</td>\n",
       "      <td>Koroplast 15 Mt Streç Film</td>\n",
       "    </tr>\n",
       "    <tr>\n",
       "      <th>2</th>\n",
       "      <td>HBV00000OE7QQ</td>\n",
       "      <td>None</td>\n",
       "      <td>Meyve ve Sebze</td>\n",
       "      <td>Meyve</td>\n",
       "      <td>Limon Lamas 500 gr</td>\n",
       "    </tr>\n",
       "    <tr>\n",
       "      <th>3</th>\n",
       "      <td>HBV00000RJ9NF</td>\n",
       "      <td>Polonez</td>\n",
       "      <td>Et, Balık, Şarküteri</td>\n",
       "      <td>Şarküteri</td>\n",
       "      <td>Polonez Kangal Sucuk 180 gr</td>\n",
       "    </tr>\n",
       "    <tr>\n",
       "      <th>4</th>\n",
       "      <td>HBV00000NG8QT</td>\n",
       "      <td>Lezita</td>\n",
       "      <td>Et, Balık, Şarküteri</td>\n",
       "      <td>Kümes Hayvanları</td>\n",
       "      <td>Lezita Piliç Yaprak Döner 200 g</td>\n",
       "    </tr>\n",
       "  </tbody>\n",
       "</table>\n",
       "</div>"
      ],
      "text/plain": [
       "         productid      brand              category       subcategory  \\\n",
       "0  ZYECZACI8673035      Silen  Ev Bakım ve Temizlik     Kağıt Ürünler   \n",
       "1     ZYSULKORO331  Koroplast     Ev Yaşam ve Bahçe   Mutfak Ürünleri   \n",
       "2    HBV00000OE7QQ       None        Meyve ve Sebze             Meyve   \n",
       "3    HBV00000RJ9NF    Polonez  Et, Balık, Şarküteri         Şarküteri   \n",
       "4    HBV00000NG8QT     Lezita  Et, Balık, Şarküteri  Kümes Hayvanları   \n",
       "\n",
       "                              name  \n",
       "0    Silen Ultra Kağıt Havlu 12'li  \n",
       "1       Koroplast 15 Mt Streç Film  \n",
       "2               Limon Lamas 500 gr  \n",
       "3      Polonez Kangal Sucuk 180 gr  \n",
       "4  Lezita Piliç Yaprak Döner 200 g  "
      ]
     },
     "execution_count": 4,
     "metadata": {},
     "output_type": "execute_result"
    }
   ],
   "source": [
    "l"
   ]
  },
  {
   "cell_type": "code",
   "execution_count": 5,
   "id": "2da0aadf",
   "metadata": {},
   "outputs": [],
   "source": [
    "model = Word2Vec.load('word2vec1.model')"
   ]
  },
  {
   "cell_type": "code",
   "execution_count": 7,
   "id": "c92e0eb7",
   "metadata": {},
   "outputs": [],
   "source": [
    "from sklearn.preprocessing import normalize\n",
    "\n",
    "scores = []\n",
    "sims = []\n",
    "all_sims = []\n",
    "for m in l['productid']:\n",
    "    temp_sims = model.wv.most_similar(m)\n",
    "    for s in temp_sims:\n",
    "        sims.append(s)\n"
   ]
  },
  {
   "cell_type": "code",
   "execution_count": 31,
   "id": "5febf47d",
   "metadata": {},
   "outputs": [],
   "source": [
    "recoms = sorted(sims, key=lambda x: x[1], reverse=True)"
   ]
  },
  {
   "cell_type": "code",
   "execution_count": 37,
   "id": "bf66c86e",
   "metadata": {},
   "outputs": [],
   "source": [
    "probs = []\n",
    "for c in range(len(recoms)):\n",
    "    probs.append(recoms[c][1])\n",
    "    "
   ]
  },
  {
   "cell_type": "code",
   "execution_count": 38,
   "id": "84432021",
   "metadata": {},
   "outputs": [
    {
     "data": {
      "text/plain": [
       "[0.6264323592185974,\n",
       " 0.6258720755577087,\n",
       " 0.6057552099227905,\n",
       " 0.5828607678413391,\n",
       " 0.5758945941925049,\n",
       " 0.569776177406311,\n",
       " 0.5532615780830383,\n",
       " 0.5516067743301392,\n",
       " 0.5491058230400085,\n",
       " 0.5469619631767273,\n",
       " 0.5431677103042603,\n",
       " 0.5404499769210815,\n",
       " 0.5393149852752686,\n",
       " 0.5360932350158691,\n",
       " 0.5356777310371399,\n",
       " 0.5259128212928772,\n",
       " 0.508969783782959,\n",
       " 0.5078563094139099,\n",
       " 0.5061989426612854,\n",
       " 0.5052303671836853,\n",
       " 0.4980885684490204,\n",
       " 0.49484914541244507,\n",
       " 0.4895317554473877,\n",
       " 0.48707208037376404,\n",
       " 0.48474615812301636,\n",
       " 0.4845846891403198,\n",
       " 0.4779452979564667,\n",
       " 0.47784531116485596,\n",
       " 0.4775783121585846,\n",
       " 0.47480159997940063,\n",
       " 0.47470927238464355,\n",
       " 0.4747052788734436,\n",
       " 0.4724462926387787,\n",
       " 0.46993380784988403,\n",
       " 0.46494847536087036,\n",
       " 0.4638857841491699,\n",
       " 0.46358293294906616,\n",
       " 0.4634680449962616,\n",
       " 0.4631747007369995,\n",
       " 0.4629647135734558,\n",
       " 0.46165913343429565,\n",
       " 0.45924022793769836,\n",
       " 0.4546964466571808,\n",
       " 0.44961798191070557,\n",
       " 0.4440016448497772,\n",
       " 0.4423174560070038,\n",
       " 0.4396286606788635,\n",
       " 0.43413713574409485,\n",
       " 0.4273320734500885,\n",
       " 0.4246530830860138]"
      ]
     },
     "execution_count": 38,
     "metadata": {},
     "output_type": "execute_result"
    }
   ],
   "source": [
    "probs"
   ]
  },
  {
   "cell_type": "code",
   "execution_count": 43,
   "id": "1c78413a",
   "metadata": {},
   "outputs": [
    {
     "name": "stdout",
     "output_type": "stream",
     "text": [
      "[('HBV00000NE1WT', 'Fora', 'Kahvaltılık ve Süt', 'Zeytin', 'Fora Gemlik Doğal Yağlı Salamura Siyah Zeytin 250 gr')]\n",
      "[('HBV00000NVZ68', 'Kocaman', 'Et, Balık, Şarküteri', 'Balık ve Deniz Mahsülleri', 'Kocaman Midye Eti %30 Glaze Donuk 500 Gr')]\n",
      "[('HBV00000NFGZL', 'Marines', 'Et, Balık, Şarküteri', 'Balık ve Deniz Mahsülleri', 'Marines Okyanus Lokumu 500 gr')]\n",
      "[('HBV00000NE24R', 'Fora', 'Kahvaltılık ve Süt', 'Zeytin', 'Fora Domat Kırma Yeşil Zeytin 250 gr')]\n",
      "[('HBV00000QX25K', 'Marines', 'Et, Balık, Şarküteri', 'Şarküteri', 'Marines Yengeç Surimi 500 gr')]\n",
      "[('ZYHPPEPSICOL025', 'Pepsi', 'İçecekler', 'Gazlı İçecekler', 'Pepsi Cola Pet 450 ML')]\n",
      "[('HBV00000O2SGQ', None, 'Meyve ve Sebze', 'Meyve', 'Elma Starking 500 gr')]\n",
      "[('HBV00000PVCBX', 'Solo', 'Ev Bakım ve Temizlik', 'Kağıt Ürünler', 'Solo Peçete Çek-Al Yedek 125\"li')]\n",
      "[('HBV00000SP6TM', 'Calmio', 'Kahvaltılık ve Süt', 'Peynir', 'Calmio Tam Yağlı Beyaz Peynir 500 gr')]\n",
      "[('HBV00000NE0Q5', 'Ekici', 'Kahvaltılık ve Süt', 'Peynir', 'Ekici Tam Yağlı Beyaz Peynir 250 gr')]\n"
     ]
    }
   ],
   "source": [
    "\n",
    "for r in recoms[:10]:\n",
    "    _id = r[0]\n",
    "    c.execute(\"SELECT * FROM Meta WHERE productid=?\" ,(_id,))\n",
    "    fetched = c.fetchall()\n",
    "    print(fetched)"
   ]
  },
  {
   "cell_type": "code",
   "execution_count": 15,
   "id": "6138d2f7",
   "metadata": {},
   "outputs": [
    {
     "data": {
      "text/plain": [
       "[('HBV00000O2SHR', None, 'Meyve ve Sebze', 'Meyve', 'Papaz Erik Paket 500 gr')]"
      ]
     },
     "execution_count": 15,
     "metadata": {},
     "output_type": "execute_result"
    }
   ],
   "source": [
    "fetched"
   ]
  },
  {
   "cell_type": "code",
   "execution_count": 1,
   "id": "6517c498",
   "metadata": {},
   "outputs": [],
   "source": [
    "from recommend import recomm_json"
   ]
  },
  {
   "cell_type": "code",
   "execution_count": 1,
   "id": "93159e6e",
   "metadata": {},
   "outputs": [],
   "source": [
    "import numpy as np \n",
    "import pandas as pd\n",
    "import json\n",
    "\n",
    "with open('Carts/cart1.json', 'r') as f:\n",
    "    cart = json.load(f)"
   ]
  },
  {
   "cell_type": "code",
   "execution_count": 2,
   "id": "29612425",
   "metadata": {},
   "outputs": [
    {
     "data": {
      "text/plain": [
       "[{'productid': 'HBV00000OEL9K',\n",
       "  'brand': None,\n",
       "  'category': 'Fırın',\n",
       "  'subcategory': 'Ekmekler',\n",
       "  'name': \"Küçük Ekmek 10'Lu\"},\n",
       " {'productid': 'ZYSULKORO15538',\n",
       "  'brand': 'Koroplast',\n",
       "  'category': 'Ev Yaşam ve Bahçe',\n",
       "  'subcategory': 'Mutfak Ürünleri',\n",
       "  'name': \"Koroplast Fırın Torbası 8'li 25x38 cm\"},\n",
       " {'productid': 'HBV00000609PC',\n",
       "  'brand': 'Superfresh',\n",
       "  'category': 'Temel Gıda',\n",
       "  'subcategory': 'Konserve',\n",
       "  'name': 'SuperFresh Mısır 220 gr'},\n",
       " {'productid': 'HBV00000NVZE6',\n",
       "  'brand': None,\n",
       "  'category': 'Et, Balık, Şarküteri',\n",
       "  'subcategory': 'Kırmızı Et',\n",
       "  'name': 'Dana Kıyma (%7 -%14 Yağ) 250 gr'},\n",
       " {'productid': 'SPORVOI20C069P-NS',\n",
       "  'brand': 'Voit',\n",
       "  'category': 'Spor, Outdoor ve Oto',\n",
       "  'subcategory': 'Kondisyon Aletleri',\n",
       "  'name': 'Voit Gymball 20Cm Yeşil Pompalı Pilates Topu V1vtkagym/20C-069-P'}]"
      ]
     },
     "execution_count": 2,
     "metadata": {},
     "output_type": "execute_result"
    }
   ],
   "source": [
    "cart"
   ]
  },
  {
   "cell_type": "code",
   "execution_count": null,
   "id": "7ddbfd18",
   "metadata": {},
   "outputs": [],
   "source": [
    "recomm_json(cart, 'word2vec_noneg_cbow.model')"
   ]
  },
  {
   "cell_type": "code",
   "execution_count": null,
   "id": "406ef486",
   "metadata": {},
   "outputs": [],
   "source": []
  }
 ],
 "metadata": {
  "kernelspec": {
   "display_name": "Python 3 (ipykernel)",
   "language": "python",
   "name": "python3"
  },
  "language_info": {
   "codemirror_mode": {
    "name": "ipython",
    "version": 3
   },
   "file_extension": ".py",
   "mimetype": "text/x-python",
   "name": "python",
   "nbconvert_exporter": "python",
   "pygments_lexer": "ipython3",
   "version": "3.8.1"
  }
 },
 "nbformat": 4,
 "nbformat_minor": 5
}
