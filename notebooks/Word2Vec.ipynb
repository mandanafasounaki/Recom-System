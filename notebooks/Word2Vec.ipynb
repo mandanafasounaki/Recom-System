{
 "cells": [
  {
   "cell_type": "code",
   "execution_count": null,
   "id": "a56bfcd1",
   "metadata": {},
   "outputs": [],
   "source": [
    "import json\n",
    "import numpy as np\n",
    "import pandas as pd\n",
    "import random\n",
    "from tqdm import tqdm\n",
    "import matplotlib.pyplot as plt\n",
    "from gensim.models import Word2Vec"
   ]
  },
  {
   "cell_type": "code",
   "execution_count": null,
   "id": "81bc81dc",
   "metadata": {},
   "outputs": [],
   "source": [
    "##Load data \n",
    "f = open('../data/events.json', 'r')\n",
    "d = json.load(f)\n",
    "d = pd.json_normalize(d['events'])\n",
    "df = pd.DataFrame(d)\n",
    "\n",
    "f2 = open('../data/meta.json', 'r')\n",
    "d2 = json.load(f2)\n",
    "d2 = pd.json_normalize(d2['meta'])\n",
    "meta_df = pd.DataFrame(d2)\n",
    "\n",
    "##Get the list of unique products and sessions\n",
    "prods = meta_df['productid'].unique().tolist()\n",
    "\n",
    "sessions = df['sessionid'].unique().tolist()"
   ]
  },
  {
   "cell_type": "code",
   "execution_count": null,
   "id": "6e2f1976",
   "metadata": {},
   "outputs": [],
   "source": [
    "## Shuffle data and create training and validation sets (90% of the data is for training)\n",
    "random.Random(4).shuffle(sessions)\n",
    "sessions_train = [sessions[i] for i in range(round(0.9 * len(sessions)))]\n",
    "\n",
    "## Create DataFrames for training and validation sets\n",
    "train_df = df[df['sessionid'].isin(sessions_train)]\n",
    "\n",
    "validation_df = df[~df['sessionid'].isin(sessions_train)]\n"
   ]
  },
  {
   "cell_type": "code",
   "execution_count": null,
   "id": "2878695a",
   "metadata": {},
   "outputs": [],
   "source": [
    "train_df.head()"
   ]
  },
  {
   "cell_type": "code",
   "execution_count": null,
   "id": "63c4f9d6",
   "metadata": {},
   "outputs": [],
   "source": [
    "import sqlite3 \n",
    "\n",
    "conn = sqlite3.connect('data.db')\n",
    "c = conn.cursor()"
   ]
  },
  {
   "cell_type": "code",
   "execution_count": null,
   "id": "189a4d8b",
   "metadata": {},
   "outputs": [],
   "source": [
    "purchase_train = []\n",
    "# target = []\n",
    "for i in tqdm(sessions_train):\n",
    "    temp = train_df[train_df['sessionid'] == i]['productid'].tolist()\n",
    "    if len(temp) > 1:\n",
    "        purchase_train.append(temp)\n",
    "#         target.append(temp[-1])"
   ]
  },
  {
   "cell_type": "code",
   "execution_count": null,
   "id": "603bee7e",
   "metadata": {},
   "outputs": [],
   "source": [
    "train_df[train_df['sessionid'] == 'd2ea7bd3-9235-4a9f-a9ea-d7f296e71318']['productid'].tolist()"
   ]
  },
  {
   "cell_type": "code",
   "execution_count": null,
   "id": "a1489fd9",
   "metadata": {},
   "outputs": [],
   "source": [
    "purchase_val = []\n",
    "val_target = []\n",
    "for i in tqdm(validation_df['sessionid'].unique()):\n",
    "    temp = validation_df[validation_df['sessionid'] == i]['productid'].tolist()\n",
    "    purchase_val.append(temp[:-1])\n",
    "#     val_target.append(temp[-1])"
   ]
  },
  {
   "cell_type": "code",
   "execution_count": null,
   "id": "5c8aed00",
   "metadata": {},
   "outputs": [],
   "source": [
    "len(purchase_val)"
   ]
  },
  {
   "cell_type": "code",
   "execution_count": null,
   "id": "93a86085",
   "metadata": {},
   "outputs": [],
   "source": [
    "c.execute(\"DROP TABLE validation\")\n",
    "c.execute(\"CREATE TABLE validation(prodid str)\")\n",
    "conn.commit()"
   ]
  },
  {
   "cell_type": "code",
   "execution_count": null,
   "id": "e1854735",
   "metadata": {},
   "outputs": [],
   "source": [
    "valid_data = []\n",
    "for v in purchase_val:\n",
    "    for a in v:\n",
    "        valid_data.append(a)\n"
   ]
  },
  {
   "cell_type": "code",
   "execution_count": null,
   "id": "0eb6e88e",
   "metadata": {},
   "outputs": [],
   "source": [
    "train_data = []\n",
    "for t in purchase_train:\n",
    "    for b in t:\n",
    "        train_data.append(b)"
   ]
  },
  {
   "cell_type": "code",
   "execution_count": null,
   "id": "3d8b2b05",
   "metadata": {},
   "outputs": [],
   "source": [
    "for v in valid_data:\n",
    "    print(v)\n",
    "    if v in train_data:\n",
    "         c.execute(\"INSERT INTO validation VALUES(?)\", (v,))"
   ]
  },
  {
   "cell_type": "code",
   "execution_count": null,
   "id": "4e409ef0",
   "metadata": {},
   "outputs": [],
   "source": [
    "conn.commit()"
   ]
  },
  {
   "cell_type": "code",
   "execution_count": 48,
   "id": "2744f8b1",
   "metadata": {},
   "outputs": [],
   "source": [
    "##create the word2vec model\n",
    "model = Word2Vec(window = 5, sg = 1, hs = 0, alpha=0.03, min_alpha=0.0007, seed = 14, sample=0.001)"
   ]
  },
  {
   "cell_type": "code",
   "execution_count": 49,
   "id": "9e465df7",
   "metadata": {},
   "outputs": [],
   "source": [
    "vocabs = model.build_vocab(purchase_train, progress_per=200)"
   ]
  },
  {
   "cell_type": "code",
   "execution_count": 50,
   "id": "79a4aa22",
   "metadata": {},
   "outputs": [
    {
     "data": {
      "text/plain": [
       "(28451094, 33393600)"
      ]
     },
     "execution_count": 50,
     "metadata": {},
     "output_type": "execute_result"
    }
   ],
   "source": [
    "##train the model\n",
    "model.train(purchase_train, total_examples = model.corpus_count, epochs=100, report_delay=1)"
   ]
  },
  {
   "cell_type": "code",
   "execution_count": 52,
   "id": "9d3337d6",
   "metadata": {},
   "outputs": [
    {
     "name": "stdout",
     "output_type": "stream",
     "text": [
      "Word2Vec(vocab=6180, vector_size=100, alpha=0.03)\n"
     ]
    }
   ],
   "source": [
    "print(model)"
   ]
  },
  {
   "cell_type": "code",
   "execution_count": 51,
   "id": "cb9f6d2a",
   "metadata": {},
   "outputs": [],
   "source": [
    "model.save('word2vec_sg.model')"
   ]
  },
  {
   "cell_type": "code",
   "execution_count": 43,
   "id": "db915bd6",
   "metadata": {},
   "outputs": [],
   "source": [
    "vectors =[]\n",
    "for vv in train_data:\n",
    "    try:\n",
    "        vectors.append(model.wv.get_vector(vv))\n",
    "    except:\n",
    "        continue"
   ]
  },
  {
   "cell_type": "code",
   "execution_count": 44,
   "id": "15bc27e0",
   "metadata": {},
   "outputs": [
    {
     "data": {
      "text/plain": [
       "325861"
      ]
     },
     "execution_count": 44,
     "metadata": {},
     "output_type": "execute_result"
    }
   ],
   "source": [
    "len(vectors)"
   ]
  },
  {
   "cell_type": "code",
   "execution_count": 45,
   "id": "b80d43d9",
   "metadata": {},
   "outputs": [
    {
     "data": {
      "text/plain": [
       "333936"
      ]
     },
     "execution_count": 45,
     "metadata": {},
     "output_type": "execute_result"
    }
   ],
   "source": [
    "len(train_data)"
   ]
  },
  {
   "cell_type": "code",
   "execution_count": 39,
   "id": "c4d9feae",
   "metadata": {},
   "outputs": [],
   "source": [
    "np.save('train_data', train_data)"
   ]
  },
  {
   "cell_type": "code",
   "execution_count": 47,
   "id": "6178098f",
   "metadata": {},
   "outputs": [],
   "source": [
    "np.save('sg_wvectors', vectors)"
   ]
  },
  {
   "cell_type": "code",
   "execution_count": null,
   "id": "c14696ad",
   "metadata": {},
   "outputs": [],
   "source": []
  }
 ],
 "metadata": {
  "kernelspec": {
   "display_name": "Python 3 (ipykernel)",
   "language": "python",
   "name": "python3"
  },
  "language_info": {
   "codemirror_mode": {
    "name": "ipython",
    "version": 3
   },
   "file_extension": ".py",
   "mimetype": "text/x-python",
   "name": "python",
   "nbconvert_exporter": "python",
   "pygments_lexer": "ipython3",
   "version": "3.8.1"
  }
 },
 "nbformat": 4,
 "nbformat_minor": 5
}
