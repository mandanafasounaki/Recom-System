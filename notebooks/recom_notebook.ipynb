{
 "cells": [
  {
   "cell_type": "code",
   "execution_count": 21,
   "id": "13d43117",
   "metadata": {},
   "outputs": [],
   "source": [
    "from load_data import load_random\n",
    "from recommend import recomm"
   ]
  },
  {
   "cell_type": "code",
   "execution_count": 26,
   "id": "e347c75c",
   "metadata": {},
   "outputs": [],
   "source": [
    "l = load_random()"
   ]
  },
  {
   "cell_type": "code",
   "execution_count": 27,
   "id": "6c038d2c",
   "metadata": {},
   "outputs": [
    {
     "data": {
      "text/html": [
       "<div>\n",
       "<style scoped>\n",
       "    .dataframe tbody tr th:only-of-type {\n",
       "        vertical-align: middle;\n",
       "    }\n",
       "\n",
       "    .dataframe tbody tr th {\n",
       "        vertical-align: top;\n",
       "    }\n",
       "\n",
       "    .dataframe thead th {\n",
       "        text-align: right;\n",
       "    }\n",
       "</style>\n",
       "<table border=\"1\" class=\"dataframe\">\n",
       "  <thead>\n",
       "    <tr style=\"text-align: right;\">\n",
       "      <th></th>\n",
       "      <th>productid</th>\n",
       "      <th>brand</th>\n",
       "      <th>category</th>\n",
       "      <th>subcategory</th>\n",
       "      <th>name</th>\n",
       "    </tr>\n",
       "  </thead>\n",
       "  <tbody>\n",
       "    <tr>\n",
       "      <th>0</th>\n",
       "      <td>HBV00000NVZBY</td>\n",
       "      <td>None</td>\n",
       "      <td>Meyve ve Sebze</td>\n",
       "      <td>Sebze</td>\n",
       "      <td>Domates Salkım 500 gr</td>\n",
       "    </tr>\n",
       "    <tr>\n",
       "      <th>1</th>\n",
       "      <td>HBV00000NVZE8</td>\n",
       "      <td>None</td>\n",
       "      <td>Et, Balık, Şarküteri</td>\n",
       "      <td>Kırmızı Et</td>\n",
       "      <td>Dana Kıyma (%5-%7 Yağ) 250 gr</td>\n",
       "    </tr>\n",
       "    <tr>\n",
       "      <th>2</th>\n",
       "      <td>HBV00000SP72S</td>\n",
       "      <td>Eker</td>\n",
       "      <td>Kahvaltılık ve Süt</td>\n",
       "      <td>Peynir</td>\n",
       "      <td>Eker Kaşar Peyniri 400 gr</td>\n",
       "    </tr>\n",
       "    <tr>\n",
       "      <th>3</th>\n",
       "      <td>HBV00000PNGHO</td>\n",
       "      <td>None</td>\n",
       "      <td>Atıştırmalık</td>\n",
       "      <td>Cips</td>\n",
       "      <td>Çerezza Sinema Peynir Ve Soğan Aroma Çeşnili M...</td>\n",
       "    </tr>\n",
       "    <tr>\n",
       "      <th>4</th>\n",
       "      <td>HBV00000NE259</td>\n",
       "      <td>Carrefour</td>\n",
       "      <td>Temel Gıda</td>\n",
       "      <td>Bakliyat, Pirinç, Makarna</td>\n",
       "      <td>Carrefour Tel Şehriye 500 gr</td>\n",
       "    </tr>\n",
       "  </tbody>\n",
       "</table>\n",
       "</div>"
      ],
      "text/plain": [
       "       productid      brand              category                subcategory  \\\n",
       "0  HBV00000NVZBY       None        Meyve ve Sebze                      Sebze   \n",
       "1  HBV00000NVZE8       None  Et, Balık, Şarküteri                 Kırmızı Et   \n",
       "2  HBV00000SP72S       Eker    Kahvaltılık ve Süt                     Peynir   \n",
       "3  HBV00000PNGHO       None          Atıştırmalık                       Cips   \n",
       "4  HBV00000NE259  Carrefour            Temel Gıda  Bakliyat, Pirinç, Makarna   \n",
       "\n",
       "                                                name  \n",
       "0                              Domates Salkım 500 gr  \n",
       "1                      Dana Kıyma (%5-%7 Yağ) 250 gr  \n",
       "2                          Eker Kaşar Peyniri 400 gr  \n",
       "3  Çerezza Sinema Peynir Ve Soğan Aroma Çeşnili M...  \n",
       "4                       Carrefour Tel Şehriye 500 gr  "
      ]
     },
     "execution_count": 27,
     "metadata": {},
     "output_type": "execute_result"
    }
   ],
   "source": [
    "l"
   ]
  },
  {
   "cell_type": "code",
   "execution_count": 42,
   "id": "a477b266",
   "metadata": {},
   "outputs": [],
   "source": [
    "recomms = recomm(l, 'word2vec_noneg_cbow.model')"
   ]
  },
  {
   "cell_type": "code",
   "execution_count": 43,
   "id": "deb4ba65",
   "metadata": {},
   "outputs": [
    {
     "data": {
      "text/html": [
       "<div>\n",
       "<style scoped>\n",
       "    .dataframe tbody tr th:only-of-type {\n",
       "        vertical-align: middle;\n",
       "    }\n",
       "\n",
       "    .dataframe tbody tr th {\n",
       "        vertical-align: top;\n",
       "    }\n",
       "\n",
       "    .dataframe thead th {\n",
       "        text-align: right;\n",
       "    }\n",
       "</style>\n",
       "<table border=\"1\" class=\"dataframe\">\n",
       "  <thead>\n",
       "    <tr style=\"text-align: right;\">\n",
       "      <th></th>\n",
       "      <th>productid</th>\n",
       "      <th>brand</th>\n",
       "      <th>category</th>\n",
       "      <th>subcategory</th>\n",
       "      <th>name</th>\n",
       "      <th>score</th>\n",
       "    </tr>\n",
       "  </thead>\n",
       "  <tbody>\n",
       "    <tr>\n",
       "      <th>0</th>\n",
       "      <td>ZYHPFRITOCPS055</td>\n",
       "      <td>Ruffles</td>\n",
       "      <td>Atıştırmalık</td>\n",
       "      <td>Cips</td>\n",
       "      <td>Ruffles Maximum Peynir Soğan Süper Boy 107 Gr ...</td>\n",
       "      <td>0.458334</td>\n",
       "    </tr>\n",
       "    <tr>\n",
       "      <th>1</th>\n",
       "      <td>HBV00000NE257</td>\n",
       "      <td>Carrefour</td>\n",
       "      <td>Temel Gıda</td>\n",
       "      <td>Bakliyat, Pirinç, Makarna</td>\n",
       "      <td>Carrefour Arpa Şehriye 500 gr</td>\n",
       "      <td>0.406227</td>\n",
       "    </tr>\n",
       "    <tr>\n",
       "      <th>2</th>\n",
       "      <td>HBV00000NE1XR</td>\n",
       "      <td>Carrefour</td>\n",
       "      <td>Temel Gıda</td>\n",
       "      <td>Bakliyat, Pirinç, Makarna</td>\n",
       "      <td>Carrefour Spagetti Makarna 500 gr</td>\n",
       "      <td>0.365619</td>\n",
       "    </tr>\n",
       "    <tr>\n",
       "      <th>3</th>\n",
       "      <td>HBV00000NE0TW</td>\n",
       "      <td>Carrefour</td>\n",
       "      <td>Temel Gıda</td>\n",
       "      <td>Bakliyat, Pirinç, Makarna</td>\n",
       "      <td>Carrefour Gönen Baldo Pirinç 1 kg</td>\n",
       "      <td>0.360493</td>\n",
       "    </tr>\n",
       "    <tr>\n",
       "      <th>4</th>\n",
       "      <td>HBV00000SP72U</td>\n",
       "      <td>Eker</td>\n",
       "      <td>Kahvaltılık ve Süt</td>\n",
       "      <td>Peynir</td>\n",
       "      <td>Eker Peynir Kaşar 600 Gr</td>\n",
       "      <td>0.349919</td>\n",
       "    </tr>\n",
       "    <tr>\n",
       "      <th>5</th>\n",
       "      <td>HBV00000NVZDI</td>\n",
       "      <td>None</td>\n",
       "      <td>Et, Balık, Şarküteri</td>\n",
       "      <td>Kırmızı Et</td>\n",
       "      <td>Dana Sote 500 gr</td>\n",
       "      <td>0.348570</td>\n",
       "    </tr>\n",
       "    <tr>\n",
       "      <th>6</th>\n",
       "      <td>HBV00000OE7H3</td>\n",
       "      <td>None</td>\n",
       "      <td>Meyve ve Sebze</td>\n",
       "      <td>Sebze</td>\n",
       "      <td>Salatalık 500 gr</td>\n",
       "      <td>0.348074</td>\n",
       "    </tr>\n",
       "    <tr>\n",
       "      <th>7</th>\n",
       "      <td>HBV00000SF25L</td>\n",
       "      <td>Calmio</td>\n",
       "      <td>Kahvaltılık ve Süt</td>\n",
       "      <td>Peynir</td>\n",
       "      <td>Calmio Tam Yağlı Taze Kaşar Peyniri 500 gr</td>\n",
       "      <td>0.338036</td>\n",
       "    </tr>\n",
       "    <tr>\n",
       "      <th>8</th>\n",
       "      <td>HBV00000NFHJA</td>\n",
       "      <td>Banvit</td>\n",
       "      <td>Et, Balık, Şarküteri</td>\n",
       "      <td>Kümes Hayvanları</td>\n",
       "      <td>Banvit Bonfile Göğüs 1 kg</td>\n",
       "      <td>0.336869</td>\n",
       "    </tr>\n",
       "    <tr>\n",
       "      <th>9</th>\n",
       "      <td>HBV00000OE7UF</td>\n",
       "      <td>None</td>\n",
       "      <td>Meyve ve Sebze</td>\n",
       "      <td>Sebze</td>\n",
       "      <td>Havuç 500 gr</td>\n",
       "      <td>0.334385</td>\n",
       "    </tr>\n",
       "  </tbody>\n",
       "</table>\n",
       "</div>"
      ],
      "text/plain": [
       "         productid      brand              category  \\\n",
       "0  ZYHPFRITOCPS055    Ruffles          Atıştırmalık   \n",
       "1    HBV00000NE257  Carrefour            Temel Gıda   \n",
       "2    HBV00000NE1XR  Carrefour            Temel Gıda   \n",
       "3    HBV00000NE0TW  Carrefour            Temel Gıda   \n",
       "4    HBV00000SP72U       Eker    Kahvaltılık ve Süt   \n",
       "5    HBV00000NVZDI       None  Et, Balık, Şarküteri   \n",
       "6    HBV00000OE7H3       None        Meyve ve Sebze   \n",
       "7    HBV00000SF25L     Calmio    Kahvaltılık ve Süt   \n",
       "8    HBV00000NFHJA     Banvit  Et, Balık, Şarküteri   \n",
       "9    HBV00000OE7UF       None        Meyve ve Sebze   \n",
       "\n",
       "                 subcategory  \\\n",
       "0                       Cips   \n",
       "1  Bakliyat, Pirinç, Makarna   \n",
       "2  Bakliyat, Pirinç, Makarna   \n",
       "3  Bakliyat, Pirinç, Makarna   \n",
       "4                     Peynir   \n",
       "5                 Kırmızı Et   \n",
       "6                      Sebze   \n",
       "7                     Peynir   \n",
       "8           Kümes Hayvanları   \n",
       "9                      Sebze   \n",
       "\n",
       "                                                name     score  \n",
       "0  Ruffles Maximum Peynir Soğan Süper Boy 107 Gr ...  0.458334  \n",
       "1                      Carrefour Arpa Şehriye 500 gr  0.406227  \n",
       "2                  Carrefour Spagetti Makarna 500 gr  0.365619  \n",
       "3                  Carrefour Gönen Baldo Pirinç 1 kg  0.360493  \n",
       "4                           Eker Peynir Kaşar 600 Gr  0.349919  \n",
       "5                                   Dana Sote 500 gr  0.348570  \n",
       "6                                   Salatalık 500 gr  0.348074  \n",
       "7         Calmio Tam Yağlı Taze Kaşar Peyniri 500 gr  0.338036  \n",
       "8                          Banvit Bonfile Göğüs 1 kg  0.336869  \n",
       "9                                       Havuç 500 gr  0.334385  "
      ]
     },
     "execution_count": 43,
     "metadata": {},
     "output_type": "execute_result"
    }
   ],
   "source": [
    "recomms"
   ]
  },
  {
   "cell_type": "code",
   "execution_count": null,
   "id": "cfd9299f",
   "metadata": {},
   "outputs": [],
   "source": []
  },
  {
   "cell_type": "code",
   "execution_count": null,
   "id": "fa09b454",
   "metadata": {},
   "outputs": [],
   "source": []
  },
  {
   "cell_type": "code",
   "execution_count": 28,
   "id": "27d96cc9",
   "metadata": {},
   "outputs": [],
   "source": [
    "d = l.to_dict()"
   ]
  },
  {
   "cell_type": "code",
   "execution_count": 29,
   "id": "c8a1af04",
   "metadata": {},
   "outputs": [],
   "source": [
    "import json\n",
    "\n",
    "with open('cart5.json', 'w') as fp:\n",
    "    json.dump(d, fp)"
   ]
  },
  {
   "cell_type": "code",
   "execution_count": 31,
   "id": "72ea9d24",
   "metadata": {},
   "outputs": [],
   "source": [
    "with open('Carts/cart5.json', 'r') as f:\n",
    "    jj = json.load(f)\n",
    "#     if len(fp.readlines()) != 0:\n",
    "#         fp.seek(0)\n",
    "#         jj = json.load(fp)"
   ]
  },
  {
   "cell_type": "code",
   "execution_count": 33,
   "id": "51bd4888",
   "metadata": {},
   "outputs": [],
   "source": [
    "with open('user_cart.json') as f:\n",
    "    str_cart = json.load(f)"
   ]
  },
  {
   "cell_type": "code",
   "execution_count": 35,
   "id": "ce958180",
   "metadata": {},
   "outputs": [],
   "source": [
    "d_cart = json.loads(str_cart)"
   ]
  },
  {
   "cell_type": "code",
   "execution_count": 41,
   "id": "a72f4b53",
   "metadata": {},
   "outputs": [
    {
     "data": {
      "text/plain": [
       "dict_values(['HBV00000JUHAR', 'HBV00000NVZ9S', 'HBV00000NG8MZ', 'HBV00000PLGKS', 'ZYECZACI9673020'])"
      ]
     },
     "execution_count": 41,
     "metadata": {},
     "output_type": "execute_result"
    }
   ],
   "source": [
    "d_cart['productid'].values()\n"
   ]
  },
  {
   "cell_type": "code",
   "execution_count": 44,
   "id": "c8aad686",
   "metadata": {},
   "outputs": [],
   "source": [
    "d_recom = recomms.to_dict()"
   ]
  },
  {
   "cell_type": "code",
   "execution_count": null,
   "id": "9496652c",
   "metadata": {},
   "outputs": [],
   "source": []
  }
 ],
 "metadata": {
  "kernelspec": {
   "display_name": "Python 3 (ipykernel)",
   "language": "python",
   "name": "python3"
  },
  "language_info": {
   "codemirror_mode": {
    "name": "ipython",
    "version": 3
   },
   "file_extension": ".py",
   "mimetype": "text/x-python",
   "name": "python",
   "nbconvert_exporter": "python",
   "pygments_lexer": "ipython3",
   "version": "3.8.1"
  }
 },
 "nbformat": 4,
 "nbformat_minor": 5
}
